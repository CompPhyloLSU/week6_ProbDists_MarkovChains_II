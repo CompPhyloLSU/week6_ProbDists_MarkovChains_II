{
 "cells": [
  {
   "cell_type": "markdown",
   "metadata": {},
   "source": [
    "# Discrete Markov Chain Simulation (Exercise 7)"
   ]
  },
  {
   "cell_type": "code",
   "execution_count": 10,
   "metadata": {},
   "outputs": [],
   "source": [
    "# Clear our workspace to start\n",
    "clear()\n",
    "\n",
    "# Define the states for our chain\n",
    "stateSpace = [\"A\",\"G\",\"T\",\"C\"]\n",
    "\n",
    "# Define our (rate) transition matrix\n",
    "transitionMatrix = [[0,1/3,1/3,1/3],\n",
    "                    [1/3,0,1/3,1/3],\n",
    "                    [1/3,1/3,0,1/3],\n",
    "                    [1/3,1/3,1/3,0]]\n",
    "\n",
    "# Define time\n",
    "\n",
    "# Initialize our chain\n",
    "myChain = [\"A\"]"
   ]
  },
  {
   "cell_type": "code",
   "execution_count": 11,
   "metadata": {},
   "outputs": [],
   "source": [
    "# Draw waiting time\n",
    "\n",
    "# Check if total time > branch length\n",
    "\n",
    "# If not, draw from new state\n",
    "\n",
    "function addState(String[] chain, String[] states, Probability[][] tMat){\n",
    "\n",
    "    numStates = states.size()\n",
    "    \n",
    "    for (s in 1:numStates){\n",
    "        if (chain[chain.size()] == states[s]){\n",
    "            probs = tMat[s]\n",
    "        }\n",
    "    }\n",
    "    \n",
    "    ranNum = runif(1,0,1)[1]\n",
    "    \n",
    "    probSum = 0.0\n",
    "    \n",
    "    i = 1\n",
    "    while(probSum < ranNum){\n",
    "        probSum += probs[i]\n",
    "        if (ranNum < probSum){\n",
    "            return append(chain,states[i])\n",
    "        }\n",
    "        i += 1\n",
    "    }     \n",
    "}"
   ]
  },
  {
   "cell_type": "code",
   "execution_count": 15,
   "metadata": {},
   "outputs": [],
   "source": [
    "numGens = 100\n",
    "\n",
    "for (g in 1:numGens){\n",
    "    myChain = addState(myChain,stateSpace,transitionMatrix)\n",
    "}\n",
    "\n",
    "ACount = 0\n",
    "GCount = 0\n",
    "TCount = 0\n",
    "CCount = 0\n",
    "for (i in 1:myChain.size()){\n",
    "    else if (myChain[i] == \"A\"){\n",
    "        ACount += 1\n",
    "   } else if (myChain[i] == \"G\"){\n",
    "        ACount += 1\n",
    "   } else if (myChain[i] == \"T\"){\n",
    "        ACount += 1\n",
    "    } else {\n",
    "        TCount += 1\n",
    "\n",
    "    }\n",
    "}"
   ]
  },
  {
   "cell_type": "code",
   "execution_count": 17,
   "metadata": {},
   "outputs": [],
   "source": [
    "# Show all states in the entire chain\n",
    "print(myChain)"
   ]
  },
  {
   "cell_type": "code",
   "execution_count": null,
   "metadata": {},
   "outputs": [],
   "source": [
    "# it's n"
   ]
  }
 ],
 "metadata": {
  "kernelspec": {
   "display_name": "RevBayes",
   "language": "bash",
   "name": "revbayes_kernel"
  },
  "language_info": {
   "codemirror_mode": {
    "name": "r"
   },
   "file_extension": ".Rev",
   "help_links": [
    {
     "text": "RevBayes",
     "url": "https://revbayes.org"
    },
    {
     "text": "RevBayes Kernel",
     "url": "https://github.com/sdwfrost/revbayes_kernel"
    },
    {
     "text": "MetaKernel Magics",
     "url": "https://github.com/calysto/metakernel/blob/master/metakernel/magics/README.md"
    }
   ],
   "mimetype": "text/x-rsrc",
   "name": "RevBayes",
   "pygments_lexer": "R"
  }
 },
 "nbformat": 4,
 "nbformat_minor": 2
}
