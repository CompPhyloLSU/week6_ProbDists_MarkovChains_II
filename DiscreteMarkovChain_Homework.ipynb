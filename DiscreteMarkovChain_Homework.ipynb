{
 "cells": [
  {
   "cell_type": "markdown",
   "metadata": {},
   "source": [
    "# Discrete Markov Chain Simulation (Exercise 7)"
   ]
  },
  {
   "cell_type": "code",
   "execution_count": 27,
   "metadata": {},
   "outputs": [],
   "source": [
    "clear()"
   ]
  },
  {
   "cell_type": "code",
   "execution_count": 28,
   "metadata": {},
   "outputs": [
    {
     "name": "stdout",
     "output_type": "stream",
     "text": [
      "   Syntax error while reading characters \"\u0000\u0000\u0000\u0000\u0000\u0000\u0000\u0000\u0000\" at position 87 to 95 in command:\n",
      "   myStates = [stateSpace[runifInt(1,1,4)[1]];keepGoing = true\n",
      "   Missing Variable:\tVariable keepGoing does not exist\n"
     ]
    }
   ],
   "source": [
    "stateSpace = [\"A\",\"G\",\"T\",\"C\"]\n",
    "myTimes = [0.0]\n",
    "myStates = [stateSpace[runifInt(1,1,4)[1]]]\n",
    "keepGoing = true\n",
    "while (keepGoing){\n",
    "    waitTime = rexp(1,1)[1]\n",
    "    if (sum(myTimes)+waitTime < 5){\n",
    "        myTimes = append(myTimes,waitTime)\n",
    "        currentState = myStates[myStates.size()]\n",
    "        nextState = currentState\n",
    "        while (nextState == currentState){\n",
    "            nextState = stateSpace[runifInt(1,1,4)[1]]\n",
    "    }\n",
    "    myStates = append(myStates,nextState)\n",
    "} else {\n",
    "    keepGoing = false\n",
    "    }\n",
    "}"
   ]
  },
  {
   "cell_type": "code",
   "execution_count": 29,
   "metadata": {},
   "outputs": [
    {
     "name": "stdout",
     "output_type": "stream",
     "text": [
      "   [ 0.000 ]\n"
     ]
    }
   ],
   "source": [
    "myTimes"
   ]
  },
  {
   "cell_type": "code",
   "execution_count": 30,
   "metadata": {},
   "outputs": [
    {
     "name": "stdout",
     "output_type": "stream",
     "text": [
      "   Missing Variable:\tVariable myStates does not exist\n"
     ]
    }
   ],
   "source": [
    "myStates"
   ]
  },
  {
   "cell_type": "code",
   "execution_count": null,
   "metadata": {},
   "outputs": [],
   "source": []
  }
 ],
 "metadata": {
  "kernelspec": {
   "display_name": "RevBayes",
   "language": "bash",
   "name": "revbayes_kernel"
  },
  "language_info": {
   "codemirror_mode": {
    "name": "r"
   },
   "file_extension": ".Rev",
   "help_links": [
    {
     "text": "RevBayes",
     "url": "https://revbayes.org"
    },
    {
     "text": "RevBayes Kernel",
     "url": "https://github.com/sdwfrost/revbayes_kernel"
    },
    {
     "text": "MetaKernel Magics",
     "url": "https://github.com/calysto/metakernel/blob/master/metakernel/magics/README.md"
    }
   ],
   "mimetype": "text/x-rsrc",
   "name": "RevBayes",
   "pygments_lexer": "R"
  }
 },
 "nbformat": 4,
 "nbformat_minor": 2
}
