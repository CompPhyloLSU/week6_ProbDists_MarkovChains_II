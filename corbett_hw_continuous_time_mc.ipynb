{
 "cells": [
  {
   "cell_type": "code",
   "execution_count": 14,
   "metadata": {},
   "outputs": [
    {
     "name": "stdout",
     "output_type": "stream",
     "text": [
      "A,G,T,A,G,C,T,G\n"
     ]
    }
   ],
   "source": [
    "#I've gotten the chain itself to work and print out the states, but can't figure out how to get\n",
    "#the corresponding times into a vector-- I think a lot of it is that I don't fully understand the append function\n",
    "#and how it's different from python\n",
    "\n",
    "# Clear our workspace to start\n",
    "clear()\n",
    "\n",
    "# Define the states for our chain\n",
    "stateSpace = [\"A\", \"T\", \"G\", \"C\"]\n",
    "\n",
    "# Define our rate(Q) matrix-- I'm not including the -1 here to make my life easier\n",
    "rateMatrix = [[0.0, (1/3), (1/3), (1/3)],[(1/3), 0.0, (1/3), (1/3)],[(1/3), (1/3), 0.0, (1/3)], [(1/3), (1/3), (1/3), 0.0]]\n",
    "\n",
    "# Initialize our chain\n",
    "myChain = [\"A\"]\n",
    "\n",
    "#Set up the function that adds a state to the chain\n",
    "function addState(String[] chain, String[] states, Probability[][] tMat){\n",
    "\n",
    "    numStates = states.size()\n",
    "    \n",
    "    for (s in 1:numStates){\n",
    "        if (chain[chain.size()] == states[s]){\n",
    "            probs = tMat[s]\n",
    "        }\n",
    "    }\n",
    "    \n",
    "    ranNum = runif(1,0,1)[1]\n",
    "    \n",
    "    probSum = 0.0\n",
    "    \n",
    "    i = 1\n",
    "    while(probSum < ranNum){\n",
    "        probSum += probs[i]\n",
    "        if (ranNum < probSum){\n",
    "            return append(chain,states[i])\n",
    "        }\n",
    "        i += 1\n",
    "    }     \n",
    "}\n",
    "\n",
    "# Define the amount of time we want to allow the chain to run for\n",
    "chain_time = 10\n",
    "#draw the wait time to the first change-- we want to do this first because if it's greater\n",
    "#than our chain time then we don't want the while loop to run even one time\n",
    "cur_time= rexp(1,1)[1]\n",
    "#set up the actual chain, changing states based on the function defined above\n",
    "while (cur_time<chain_time){\n",
    "wait_time= rexp(1,1)[1]\n",
    "cur_time+=wait_time\n",
    "myChain = addState(myChain,stateSpace,rateMatrix)\n",
    "}\n",
    "\n",
    "# Show all states in the chain\n",
    "print(myChain)"
   ]
  },
  {
   "cell_type": "code",
   "execution_count": null,
   "metadata": {},
   "outputs": [],
   "source": []
  }
 ],
 "metadata": {
  "kernelspec": {
   "display_name": "RevBayes",
   "language": "bash",
   "name": "revbayes_kernel"
  },
  "language_info": {
   "codemirror_mode": {
    "name": "r"
   },
   "file_extension": ".Rev",
   "help_links": [
    {
     "text": "RevBayes",
     "url": "https://revbayes.org"
    },
    {
     "text": "RevBayes Kernel",
     "url": "https://github.com/sdwfrost/revbayes_kernel"
    },
    {
     "text": "MetaKernel Magics",
     "url": "https://github.com/calysto/metakernel/blob/master/metakernel/magics/README.md"
    }
   ],
   "mimetype": "text/x-rsrc",
   "name": "RevBayes",
   "pygments_lexer": "R"
  }
 },
 "nbformat": 4,
 "nbformat_minor": 2
}
