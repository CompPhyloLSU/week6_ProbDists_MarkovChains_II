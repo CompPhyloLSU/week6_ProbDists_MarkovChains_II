{
 "cells": [
  {
   "cell_type": "code",
   "execution_count": 30,
   "metadata": {},
   "outputs": [
    {
     "name": "stdout",
     "output_type": "stream",
     "text": [
      "   G\n",
      "   1\n"
     ]
    }
   ],
   "source": [
    "##Define state space\n",
    "##Continuous time matrix\n",
    "##Define time\n",
    "\n",
    "clear()\n",
    "stateSpace = [\"A\",\"T\",\"G\",\"C\"]\n",
    "rateMatrix = [[-1,1/3,1/3,1/3],[1/3,-1,1/3,1/3],[1/3,1/3,-1,1/3],[1/3,1/3,1/3,-1]]\n",
    "time=1\n",
    "myChain = stateSpace[runifInt(1,1,stateSpace.size())[1]]\n",
    "myChain\n"
   ]
  },
  {
   "cell_type": "code",
   "execution_count": null,
   "metadata": {},
   "outputs": [],
   "source": [
    "##Also need a chain for waiting times?"
   ]
  },
  {
   "cell_type": "code",
   "execution_count": 28,
   "metadata": {},
   "outputs": [
    {
     "name": "stdout",
     "output_type": "stream",
     "text": [
      "   [ 0 ]\n"
     ]
    }
   ],
   "source": [
    "myTimes = [0]\n",
    "myTimes"
   ]
  },
  {
   "cell_type": "code",
   "execution_count": null,
   "metadata": {},
   "outputs": [],
   "source": [
    "##Draw from an exponential distribution for a waiting time.\n",
    " ##Check if total time is greater than branch length.\n",
    " ##If not, draw a new state.\n",
    " ##We should keep track of the sums of all the waiting times drawn. If it's greater than our time\n",
    " ##(branch length), we should end our chain.\n",
    " ##Our chain can be a vector of waiting times [0,0.1,0.5] paired with their states [A,A,C]"
   ]
  },
  {
   "cell_type": "code",
   "execution_count": 26,
   "metadata": {},
   "outputs": [
    {
     "name": "stdout",
     "output_type": "stream",
     "text": [
      "   Syntax error while reading characters \"\u0000\u0000\u0000\u0000\u0000\u0000\u0000\" at position 4319 to 4325 in command:\n",
      "   function addState(String[] chain, String[] states, Probability[][][][] tMat){;    ;    numStates = states.size();    ;    for (s in 1:numstates){;        if\n",
      "   (chain[chain.size()] == states[s]){;            rates = QMat[s];        };    };    ;    ranExp =  rexp(1,0,10)[1];    ;    rateSum = 0.0;    ;    for (i in\n",
      "   1:chain.size()){;        while (ranExp <= time){;            rateSum += ranExp;            if rateSum <= time{\n",
      "   Missing Variable:\tVariable chain does not exist\n",
      "   Syntax error while reading character '}' at position 48 in command:\n",
      "                   return append (myTimes,rateSum)}\n",
      "   Syntax error while reading character '}' at position 13 in command:\n",
      "               }\n",
      "   Syntax error while reading character '}' at position 13 in command:\n",
      "               }\n",
      "   Syntax error while reading character '}' at position 9 in command:\n",
      "           }\n"
     ]
    }
   ],
   "source": [
    "function addState(String[] chain, String[] states, Probability[][][][] tMat){\n",
    "    \n",
    "    numStates = states.size()\n",
    "    \n",
    "    for (s in 1:numstates){\n",
    "        if (chain[chain.size()] == states[s]){\n",
    "            rates = QMat[s]\n",
    "        }\n",
    "    }\n",
    "    \n",
    "    ranExp =  rexp(1,0,10)[1]\n",
    "    \n",
    "    rateSum = 0.0\n",
    "    \n",
    "    for (i in 1:chain.size()){\n",
    "        while (ranExp <= time){\n",
    "            rateSum += ranExp\n",
    "            if rateSum <= time{\n",
    "                return append (chain,stateSpace[runifInt(1,1,stateSpace.size())[1]])\n",
    "                return append (myTimes,rateSum)}\n",
    "            }\n",
    "            }\n",
    "        }\n",
    "        \n",
    "##Sorry this code makes no sense. I feel like I'm trying to come up with an original thought\n",
    "##in a language I don't speak. "
   ]
  },
  {
   "cell_type": "code",
   "execution_count": 27,
   "metadata": {},
   "outputs": [
    {
     "name": "stdout",
     "output_type": "stream",
     "text": [
      "   Error:\tNo function named 'addState'\n"
     ]
    }
   ],
   "source": [
    "myChain=addState(myChain,stateSpace,rateMatrix)"
   ]
  },
  {
   "cell_type": "code",
   "execution_count": null,
   "metadata": {},
   "outputs": [],
   "source": []
  }
 ],
 "metadata": {
  "kernelspec": {
   "display_name": "RevBayes",
   "language": "bash",
   "name": "revbayes_kernel"
  },
  "language_info": {
   "codemirror_mode": {
    "name": "r"
   },
   "file_extension": ".Rev",
   "help_links": [
    {
     "text": "RevBayes",
     "url": "https://revbayes.org"
    },
    {
     "text": "RevBayes Kernel",
     "url": "https://github.com/sdwfrost/revbayes_kernel"
    },
    {
     "text": "MetaKernel Magics",
     "url": "https://github.com/calysto/metakernel/blob/master/metakernel/magics/README.md"
    }
   ],
   "mimetype": "text/x-rsrc",
   "name": "RevBayes",
   "pygments_lexer": "R"
  }
 },
 "nbformat": 4,
 "nbformat_minor": 2
}
