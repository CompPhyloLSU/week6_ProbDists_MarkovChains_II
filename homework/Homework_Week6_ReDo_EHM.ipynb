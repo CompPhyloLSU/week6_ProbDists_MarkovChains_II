{
 "cells": [
  {
   "cell_type": "markdown",
   "metadata": {},
   "source": [
    "Start in state A \n",
    "\n",
    "Define available states\n",
    "\n",
    "Next state is A"
   ]
  },
  {
   "cell_type": "code",
   "execution_count": 30,
   "metadata": {},
   "outputs": [],
   "source": [
    "currentState = \"A\"\n",
    "stateSpace = [\"A\",\"C\",\"G\",\"T\"]\n",
    "nextState = \"A\""
   ]
  },
  {
   "cell_type": "markdown",
   "metadata": {},
   "source": [
    "Define Boolean variable"
   ]
  },
  {
   "cell_type": "code",
   "execution_count": 31,
   "metadata": {},
   "outputs": [],
   "source": [
    "go = true"
   ]
  },
  {
   "cell_type": "markdown",
   "metadata": {},
   "source": [
    "Confirm \"go\" variable out of paranoia "
   ]
  },
  {
   "cell_type": "code",
   "execution_count": 32,
   "metadata": {
    "scrolled": true
   },
   "outputs": [
    {
     "name": "stdout",
     "output_type": "stream",
     "text": [
      "   TRUE\n"
     ]
    }
   ],
   "source": [
    "go"
   ]
  },
  {
   "cell_type": "markdown",
   "metadata": {},
   "source": [
    "Define drawTimes variable; starts at 0\n",
    "\n",
    "Define drawStates variable\n",
    "--Draw one random integer uniformly between 1 and 4 (in this case, one of the 4 state spaces - A, C, G, or T)"
   ]
  },
  {
   "cell_type": "code",
   "execution_count": 33,
   "metadata": {},
   "outputs": [],
   "source": [
    "drawTimes = [0.0]\n",
    "drawStates = [stateSpace[runifInt(1,1,4)[1]]]"
   ]
  },
  {
   "cell_type": "markdown",
   "metadata": {},
   "source": [
    "Start while loop; runs while the following is true:\n",
    "\n",
    "Define waitTimes variable (time elapsed between states)\n",
    " \n",
    " --Draw randomly from the exponential each time\n",
    " \n",
    " --If the sum of the previous time drawn and the waitTime is less than 5 \n",
    " \n",
    " --Add the waitTime to the drawTime for each draw to keep from going over\n",
    " \n",
    " --Current state will be one of the drawStates \n",
    " \n",
    " --Next state will remain the current state while the next state is comparable to the current state \n",
    "     \n",
    "     --Draw the next state by drawing one random integer uniformly b/t 1        and 4 (one of the 4 states in this case)\n",
    "     \n",
    "     --Remember current state when drawing next state \n",
    "\n",
    "\n",
    "If the above is false (i.e. sum of times exceeds 5), stop the loop"
   ]
  },
  {
   "cell_type": "code",
   "execution_count": 34,
   "metadata": {},
   "outputs": [],
   "source": [
    "while (go){\n",
    "    waitTimes = rexp(1,1)[1]\n",
    "    if (sum(drawTimes)+waitTimes < 5){\n",
    "        drawTimes = append(drawTimes,waitTimes)\n",
    "        currentState = drawStates[drawStates.size()]\n",
    "        nextState = currentState \n",
    "        while (nextState == currentState){\n",
    "            nextState = stateSpace[runifInt(1,1,4)[1]]\n",
    "        }\n",
    "        drawStates = append(drawStates,nextState)\n",
    "    } else {\n",
    "        go = false\n",
    "    }\n",
    "}"
   ]
  },
  {
   "cell_type": "markdown",
   "metadata": {},
   "source": [
    "Print times drawn from the loop"
   ]
  },
  {
   "cell_type": "code",
   "execution_count": 35,
   "metadata": {},
   "outputs": [
    {
     "name": "stdout",
     "output_type": "stream",
     "text": [
      "   [ 0.000, 0.198, 0.135, 0.550, 0.732, 1.968, 0.318 ]\n"
     ]
    }
   ],
   "source": [
    "drawTimes"
   ]
  },
  {
   "cell_type": "markdown",
   "metadata": {},
   "source": [
    "Print state changes drawn from the loop"
   ]
  },
  {
   "cell_type": "code",
   "execution_count": 36,
   "metadata": {},
   "outputs": [
    {
     "name": "stdout",
     "output_type": "stream",
     "text": [
      "   [ C, G, C, A, C, T, G ]\n"
     ]
    }
   ],
   "source": [
    "drawStates"
   ]
  }
 ],
 "metadata": {
  "kernelspec": {
   "display_name": "RevBayes",
   "language": "bash",
   "name": "revbayes_kernel"
  },
  "language_info": {
   "codemirror_mode": {
    "name": "r"
   },
   "file_extension": ".Rev",
   "help_links": [
    {
     "text": "RevBayes",
     "url": "https://revbayes.org"
    },
    {
     "text": "RevBayes Kernel",
     "url": "https://github.com/sdwfrost/revbayes_kernel"
    },
    {
     "text": "MetaKernel Magics",
     "url": "https://github.com/calysto/metakernel/blob/master/metakernel/magics/README.md"
    }
   ],
   "mimetype": "text/x-rsrc",
   "name": "RevBayes",
   "pygments_lexer": "R"
  }
 },
 "nbformat": 4,
 "nbformat_minor": 2
}
