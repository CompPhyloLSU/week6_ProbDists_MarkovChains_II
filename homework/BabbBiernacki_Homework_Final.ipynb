{
 "cells": [
  {
   "cell_type": "code",
   "execution_count": 61,
   "metadata": {},
   "outputs": [
    {
     "name": "stdout",
     "output_type": "stream",
     "text": [
      "   [ G ]\n"
     ]
    }
   ],
   "source": [
    "clear()\n",
    "stateSpace = [\"A\",\"T\",\"G\",\"C\"]\n",
    "myChain = [stateSpace[runifInt(1,1,stateSpace.size())[1]]]\n",
    "myChain"
   ]
  },
  {
   "cell_type": "code",
   "execution_count": 62,
   "metadata": {},
   "outputs": [
    {
     "name": "stdout",
     "output_type": "stream",
     "text": [
      "   [ 0.000 ]\n"
     ]
    }
   ],
   "source": [
    "myTimes = [0.0]\n",
    "myTimes"
   ]
  },
  {
   "cell_type": "code",
   "execution_count": 63,
   "metadata": {},
   "outputs": [],
   "source": [
    "waitingSums = 0\n",
    "\n",
    "while (waitingSums <= 10){\n",
    "    waitingTime = rexp(1,1)[1]\n",
    "    while (sum(myTimes)+waitingTime <= 10){\n",
    "        myTimes = append (myTimes,waitingTime)\n",
    "        myNucleotide = myChain[myChain.size()]\n",
    "        nextNucleotide = myNucleotide\n",
    "        while (nextNucleotide == myNucleotide) {\n",
    "            nextNucleotide = stateSpace[runifInt(1,1,stateSpace.size())[1]]\n",
    "        }\n",
    "        myChain = append(myChain,nextNucleotide)\n",
    "    }\n",
    "    waitingSums += waitingTime\n",
    "\n",
    "}"
   ]
  },
  {
   "cell_type": "code",
   "execution_count": 64,
   "metadata": {},
   "outputs": [
    {
     "name": "stdout",
     "output_type": "stream",
     "text": [
      "   [ G, A, G, C, G, A, G, A, T, G, C, G, C, G, C, A, C, A ]\n"
     ]
    }
   ],
   "source": [
    "myChain"
   ]
  },
  {
   "cell_type": "code",
   "execution_count": 65,
   "metadata": {},
   "outputs": [
    {
     "name": "stdout",
     "output_type": "stream",
     "text": [
      "   [ 0.000, 0.665, 0.665, 0.665, 0.665, 0.665, 0.665, 0.665, 0.665, 0.665, 0.665, 0.665, 0.665, 0.665, 0.665, 0.665, 0.012, 0.012 ]\n"
     ]
    }
   ],
   "source": [
    "myTimes"
   ]
  },
  {
   "cell_type": "code",
   "execution_count": 66,
   "metadata": {},
   "outputs": [
    {
     "name": "stdout",
     "output_type": "stream",
     "text": [
      "   9.995311\n"
     ]
    }
   ],
   "source": [
    "sum(myTimes)"
   ]
  },
  {
   "cell_type": "code",
   "execution_count": null,
   "metadata": {},
   "outputs": [],
   "source": []
  }
 ],
 "metadata": {
  "kernelspec": {
   "display_name": "RevBayes",
   "language": "bash",
   "name": "revbayes_kernel"
  },
  "language_info": {
   "codemirror_mode": {
    "name": "r"
   },
   "file_extension": ".Rev",
   "help_links": [
    {
     "text": "RevBayes",
     "url": "https://revbayes.org"
    },
    {
     "text": "RevBayes Kernel",
     "url": "https://github.com/sdwfrost/revbayes_kernel"
    },
    {
     "text": "MetaKernel Magics",
     "url": "https://github.com/calysto/metakernel/blob/master/metakernel/magics/README.md"
    }
   ],
   "mimetype": "text/x-rsrc",
   "name": "RevBayes",
   "pygments_lexer": "R"
  }
 },
 "nbformat": 4,
 "nbformat_minor": 2
}
