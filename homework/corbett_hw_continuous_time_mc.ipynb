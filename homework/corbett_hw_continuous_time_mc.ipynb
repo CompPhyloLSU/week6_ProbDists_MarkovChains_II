{
 "cells": [
  {
   "cell_type": "code",
   "execution_count": 50,
   "metadata": {},
   "outputs": [
    {
     "name": "stdout",
     "output_type": "stream",
     "text": [
      "G,G\n",
      "0,0.5\n"
     ]
    }
   ],
   "source": [
    "# Clear our workspace to start\n",
    "clear()\n",
    "\n",
    "# Define the states for our chain\n",
    "stateSpace = [\"A\", \"T\", \"G\", \"C\"]\n",
    "\n",
    "# Define our rate(Q) matrix-- I'm not including the -1 here to make my life easier\n",
    "rateMatrix = [[0.0, (1/3), (1/3), (1/3)],[(1/3), 0.0, (1/3), (1/3)],[(1/3), (1/3), 0.0, (1/3)], [(1/3), (1/3), (1/3), 0.0]]\n",
    "\n",
    "# Initialize our chain\n",
    "starter= stateSpace[runifInt(1, 1, 4)[1]]\n",
    "myChain = [starter]\n",
    "\n",
    "#Set up the function that adds a state to the chain-- this is the same code as from the example discrete\n",
    "#time markov chain, which is more complicated than it needs to be as we discussed in class...\n",
    "#but this can be adapted (maybe?) for some non-JC models\n",
    "function addState(String[] chain, String[] states, Probability[][] tMat){\n",
    "\n",
    "    numStates = states.size()\n",
    "    \n",
    "    for (s in 1:numStates){\n",
    "        if (chain[chain.size()] == states[s]){\n",
    "            probs = tMat[s]\n",
    "        }\n",
    "    }\n",
    "    \n",
    "    ranNum = runif(1,0,1)[1]\n",
    "    \n",
    "    probSum = 0.0\n",
    "    \n",
    "    i = 1\n",
    "    while(probSum < ranNum){\n",
    "        probSum += probs[i]\n",
    "        if (ranNum < probSum){\n",
    "            return append(chain,states[i])\n",
    "        }\n",
    "        i += 1\n",
    "    }     \n",
    "}\n",
    "\n",
    "# Define the amount of time we want to allow the chain to run for\n",
    "chain_time = 0.5\n",
    "#draw the wait time to the first change-- we want to do this first because if it's greater\n",
    "#than our chain time then we don't want the while loop to run even one time\n",
    "cur_time= rexp(1,1)[1]\n",
    "#set up a time chain starting at zero\n",
    "myTimes=[0.0]\n",
    "#set up the actual chain, changing states based on the function defined above\n",
    "while (cur_time<chain_time){\n",
    "wait_time= rexp(1,1)[1]\n",
    "myTimes= append(myTimes, cur_time)\n",
    "cur_time+=wait_time\n",
    "myChain = addState(myChain,stateSpace,rateMatrix)\n",
    "}\n",
    "myTimes= append(myTimes, chain_time)\n",
    "myChain= append(myChain, myChain[myChain.size()])\n",
    "# Show all states in the chain\n",
    "print(myChain)\n",
    "print(myTimes)"
   ]
  },
  {
   "cell_type": "code",
   "execution_count": null,
   "metadata": {},
   "outputs": [],
   "source": []
  }
 ],
 "metadata": {
  "kernelspec": {
   "display_name": "RevBayes",
   "language": "bash",
   "name": "revbayes_kernel"
  },
  "language_info": {
   "codemirror_mode": {
    "name": "r"
   },
   "file_extension": ".Rev",
   "help_links": [
    {
     "text": "RevBayes",
     "url": "https://revbayes.org"
    },
    {
     "text": "RevBayes Kernel",
     "url": "https://github.com/sdwfrost/revbayes_kernel"
    },
    {
     "text": "MetaKernel Magics",
     "url": "https://github.com/calysto/metakernel/blob/master/metakernel/magics/README.md"
    }
   ],
   "mimetype": "text/x-rsrc",
   "name": "RevBayes",
   "pygments_lexer": "R"
  }
 },
 "nbformat": 4,
 "nbformat_minor": 2
}
