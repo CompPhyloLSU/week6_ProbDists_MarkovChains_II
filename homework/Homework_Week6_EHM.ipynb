{
 "cells": [
  {
   "cell_type": "code",
   "execution_count": 11,
   "metadata": {},
   "outputs": [],
   "source": [
    "#Clear workspace\n",
    "clear()\n",
    "\n",
    "#Define state space\n",
    "stateSpace = [\"A\",\"C\",\"G\",\"T\"]\n",
    "\n",
    "#Define rate matrix\n",
    "Q = [[-1.000,0.333,0.333,0.333],[0.333,-1.000,0.333,0.333],[0.333,0.333,-1.000,0.333],[0.333,0.333,0.333,-1.000]]\n",
    "\n",
    "#Initialize chain\n",
    "myChain = [\"A\"]"
   ]
  },
  {
   "cell_type": "code",
   "execution_count": 12,
   "metadata": {},
   "outputs": [
    {
     "name": "stdout",
     "output_type": "stream",
     "text": [
      "   [ [ -1.000, 0.333, 0.333, 0.333 ], [ 0.333, -1.000, 0.333, 0.333 ], [ 0.333, 0.333, -1.000, 0.333 ], [ 0.333, 0.333, 0.333, -1.000 ] ]\n"
     ]
    }
   ],
   "source": [
    "Q"
   ]
  },
  {
   "cell_type": "markdown",
   "metadata": {},
   "source": [
    "Add a function that will draw a new state from each generation \n",
    "    \n",
    "    define the variable, which defines the size of the state space \n",
    "    \n",
    "    s is the loop variable \n",
    "    define the size of the chain (=states[s]) \n",
    "    \n",
    "    extract from appropriate row \n",
    "    \n",
    "Sample one randomly between 0 and 1\n",
    "\n",
    "probSum = 0 \n",
    "\n",
    "Ensure total time will not be bigger than the branch length (?)\n",
    "    If not, return and draw new state"
   ]
  },
  {
   "cell_type": "code",
   "execution_count": 13,
   "metadata": {},
   "outputs": [],
   "source": [
    "function addState(String[] chain, String[] states, Real[][] tMat){\n",
    "\n",
    "    numStates = states.size()\n",
    "    \n",
    "    for (s in 1:numStates){\n",
    "        if (chain[chain.size()] == states[s]){\n",
    "            probs = tMat[s]\n",
    "        }\n",
    "    }\n",
    "    \n",
    "    ranNum = runif(1.0,0.0,1.0)[1]\n",
    "    \n",
    "    probSum = 0.0\n",
    "    \n",
    "    i = 1\n",
    "    while(probSum < ranNum){\n",
    "        probSum += probs[i]\n",
    "        if (ranNum < probSum){\n",
    "            return append(chain,states[i])\n",
    "        }\n",
    "        i += 1\n",
    "    }     \n",
    "}"
   ]
  },
  {
   "cell_type": "code",
   "execution_count": 15,
   "metadata": {},
   "outputs": [
    {
     "name": "stdout",
     "output_type": "stream",
     "text": [
      "   Error:\tVector index out of range: 4 of 4\n",
      "   Syntax error while reading characters \"ural\" at position 485 to 488 in command:\n",
      "   for (i in 1:myChain.size()){;    if (myChain[i] == \"A\"){;        aCount += 1;    } else {;        cCount += 1;    } else {\n",
      "   Syntax error while reading character '}' at position 5 in command:\n",
      "       } else {\n",
      "   Syntax error while reading character '}' at position 5 in command:\n",
      "       }\n",
      "   Syntax error while reading character '}' at position 1 in command:\n",
      "   }\n",
      "0\n",
      "0\n",
      "1\n",
      "1\n"
     ]
    }
   ],
   "source": [
    "# Define the number of generations (iterations) in our chain\n",
    "numGens = 10\n",
    "\n",
    "# Run the chain for numGens generations\n",
    "for (g in 1:numGens){\n",
    "    myChain = addState(myChain,stateSpace,Q)\n",
    "}\n",
    "\n",
    "# Tally the number of times each state occurs in the chain\n",
    "aCount = 0\n",
    "cCount = 0\n",
    "gCount = 0\n",
    "tCount = 0\n",
    "\n",
    "for (i in 1:myChain.size()){\n",
    "    if (myChain[i] == \"A\"){\n",
    "        aCount += 1\n",
    "    } else {\n",
    "        cCount += 1\n",
    "    } else {\n",
    "        gCount += 1\n",
    "    } else {\n",
    "        tCount += 1\n",
    "    }\n",
    "}\n",
    "\n",
    "\n",
    "# Calculate the frequencies of states visited by the chain\n",
    "print(aCount/myChain.size())\n",
    "print(cCount/myChain.size())\n",
    "print(gCount/myChain.size())\n",
    "print(tCount/myChain.size())"
   ]
  }
 ],
 "metadata": {
  "kernelspec": {
   "display_name": "RevBayes",
   "language": "bash",
   "name": "revbayes_kernel"
  },
  "language_info": {
   "codemirror_mode": {
    "name": "r"
   },
   "file_extension": ".Rev",
   "help_links": [
    {
     "text": "RevBayes",
     "url": "https://revbayes.org"
    },
    {
     "text": "RevBayes Kernel",
     "url": "https://github.com/sdwfrost/revbayes_kernel"
    },
    {
     "text": "MetaKernel Magics",
     "url": "https://github.com/calysto/metakernel/blob/master/metakernel/magics/README.md"
    }
   ],
   "mimetype": "text/x-rsrc",
   "name": "RevBayes",
   "pygments_lexer": "R"
  }
 },
 "nbformat": 4,
 "nbformat_minor": 2
}
