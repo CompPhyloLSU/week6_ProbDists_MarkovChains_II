{
 "cells": [
  {
   "cell_type": "markdown",
   "metadata": {},
   "source": [
    "Homework in which we are tasked with turning the example code into functioning code for the continuous time markov chain. "
   ]
  },
  {
   "cell_type": "markdown",
   "metadata": {},
   "source": [
    "Pseudocode:\n",
    "Define the state space\n",
    "Define the rate matrix\n",
    "Initiate the chain\n",
    "    Randomly start the chain with either A, T, G, or C\n",
    "Set the duration of the simulation\n",
    "    In class we decided on 0.5\n",
    "Draw a waiting time from an exponential distribution \n",
    "    Check if the waiting time sum is less than the duration\n",
    "    Choose a new state\n",
    "Store the data\n",
    "    The event time\n",
    "    State at time "
   ]
  },
  {
   "cell_type": "code",
   "execution_count": 1,
   "metadata": {},
   "outputs": [],
   "source": [
    "# Clear the workspace before each run to reduce errors\n",
    "clear()\n",
    "\n",
    "# Make the state space to define the chain\n",
    "# use \"\" as these are categories \n",
    "states = [\"A\", \"T\", \"G\", \"C\"]\n",
    "\n",
    "# Set the rate Matrix to reference\n",
    "ratemat = [[0, 0.3, 0.3, 0.3], [0.3, 0, 0.3, 0.3], [0.3, 0.3, 0, 0.3], [0.3, 0.3, 0.3, 0]]\n",
    "\n",
    "# Set the first event in the chain\n",
    "pick = runifInt(1, 1, 4)[1]\n",
    "mychain = [states[pick]]\n",
    "\n"
   ]
  },
  {
   "cell_type": "markdown",
   "metadata": {},
   "source": [
    "The first cell is used to establish the components of the markov chain that will be used. The states are all the possible states that can be events. The transition matrix gives the probabilites of staying within an event or moving to another. The chain is going to be the chain of events that occur, here we have set the first of the events. "
   ]
  },
  {
   "cell_type": "code",
   "execution_count": null,
   "metadata": {},
   "outputs": [],
   "source": [
    "# Create a function that will take our markov inputs and check the state, use that prob and add to the chain\n",
    "function addState(String[] chain, String[] states, Probability[][] tMat){\n",
    "\n",
    "    numStates = states.size()\n",
    "    time = .5\n",
    "    wait2 = 0\n",
    "    events = 0\n",
    "    for (k in 1:10){\n",
    "    wait = rexp(1)[1]\n",
    "    if ((wait+wait2) < time){\n",
    "        for (s in 1:numStates){\n",
    "            if (chain[chain.size()] == states[s]){\n",
    "                probs = tMat[s]\n",
    "            }\n",
    "        }\n",
    "    }\n",
    "    ranNum = runif(1,0,1)[1]\n",
    "    \n",
    "    probSum = 0.0\n",
    "    \n",
    "    i = 1\n",
    "    while(probSum < ranNum){\n",
    "        probSum += probs[i]\n",
    "        if (ranNum < probSum){\n",
    "            return append(chain,states[i])\n",
    "        }\n",
    "        i += 1\n",
    "    }     \n",
    "\n",
    "events[k] = wait    \n",
    "wait2 += wait\n",
    "}    "
   ]
  },
  {
   "cell_type": "markdown",
   "metadata": {},
   "source": [
    "The function cell uses the markov inputs, the chain, state, and transition matrix to run through to the next state."
   ]
  },
  {
   "cell_type": "code",
   "execution_count": null,
   "metadata": {},
   "outputs": [],
   "source": [
    "# Define the number of generations (iterations) in our chain\n",
    "numGens = 30\n",
    "\n",
    "# Run the chain for numGens generations\n",
    "for (g in 1:numGens){\n",
    "    mychain = addState(mychain,states,ratemat)\n",
    "}\n",
    "\n",
    "# Tally the number of times each state occurs in the chain\n",
    "ACount = 0\n",
    "TCount = 0\n",
    "GCount = 0\n",
    "CCount = 0\n",
    "for (i in 1:mychain.size()){\n",
    "    if (mychain[i] == \"A\"){\n",
    "        ACount += 1\n",
    "    } else if (mychain[i] == \"T\"){\n",
    "        TCount += 1\n",
    "    } else if (mychain[i] == \"G\"){\n",
    "        GCount += 1\n",
    "    } else {\n",
    "        CCount += 1\n",
    "    }\n",
    "}\n",
    "\n",
    "# Calculate the frequencies of states visited by the chain\n",
    "events\n",
    "print(ACount/mychain.size())\n",
    "print(TCount/mychain.size())\n",
    "print(GCount/mychain.size())\n",
    "print(CCount/mychain.size())"
   ]
  }
 ],
 "metadata": {
  "kernelspec": {
   "display_name": "RevBayes",
   "language": "bash",
   "name": "revbayes_kernel"
  },
  "language_info": {
   "codemirror_mode": {
    "name": "r"
   },
   "file_extension": ".Rev",
   "help_links": [
    {
     "text": "RevBayes",
     "url": "https://revbayes.org"
    },
    {
     "text": "RevBayes Kernel",
     "url": "https://github.com/sdwfrost/revbayes_kernel"
    },
    {
     "text": "MetaKernel Magics",
     "url": "https://github.com/calysto/metakernel/blob/master/metakernel/magics/README.md"
    }
   ],
   "mimetype": "text/x-rsrc",
   "name": "RevBayes",
   "pygments_lexer": "R"
  }
 },
 "nbformat": 4,
 "nbformat_minor": 2
}
