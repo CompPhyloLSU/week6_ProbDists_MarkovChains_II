{
 "cells": [
  {
   "cell_type": "markdown",
   "metadata": {},
   "source": [
    "# Discrete Markov Chain Simulation (Exercise 7)"
   ]
  },
  {
   "cell_type": "markdown",
   "metadata": {},
   "source": [
    "Here, I define the variables"
   ]
  },
  {
   "cell_type": "code",
   "execution_count": 17,
   "metadata": {},
   "outputs": [],
   "source": [
    "#Clear workspace first\n",
    "clear()\n",
    "\n",
    "sSpace = [\"A\",\"C\",\"G\",\"T\"]\n",
    "tTimes = [0,0]\n",
    "bLength = 10"
   ]
  },
  {
   "cell_type": "markdown",
   "metadata": {},
   "source": [
    "I used break function and using while (true) statement to avoid stating boolean condition as a variable. "
   ]
  },
  {
   "cell_type": "code",
   "execution_count": 14,
   "metadata": {},
   "outputs": [],
   "source": [
    "tState = sSpace.size()\n",
    "\n",
    "for (i in 1:tState){\n",
    "    mStates = [sSpace[runifInt(1,1,tState)[1]]]\n",
    "}\n",
    "\n",
    "while (true){\n",
    "    wTime = rexp(1,1)[1]\n",
    "    if (sum(tTimes)+wTime<bLength){\n",
    "        tTimes = append(tTimes,wTime)\n",
    "        cState = mStates[mStates.size()]\n",
    "        nState = cState\n",
    "        while (nState == cState){\n",
    "            nState = sSpace[runifInt(1,1,4)[1]]\n",
    "        }\n",
    "        mStates = append(mStates,nState)\n",
    "    } else {\n",
    "        break\n",
    "    }\n",
    "}"
   ]
  },
  {
   "cell_type": "code",
   "execution_count": 15,
   "metadata": {},
   "outputs": [
    {
     "name": "stdout",
     "output_type": "stream",
     "text": [
      "   [ 0.000, 0.000, 0.203, 0.007, 0.226, 2.125, 0.164, 2.760, 3.082, 1.170 ]\n"
     ]
    }
   ],
   "source": [
    "tTimes"
   ]
  },
  {
   "cell_type": "code",
   "execution_count": 16,
   "metadata": {},
   "outputs": [
    {
     "name": "stdout",
     "output_type": "stream",
     "text": [
      "   [ G, C, G, A, T, A, C, G, T ]\n"
     ]
    }
   ],
   "source": [
    "mStates"
   ]
  }
 ],
 "metadata": {
  "kernelspec": {
   "display_name": "RevBayes",
   "language": "bash",
   "name": "revbayes_kernel"
  },
  "language_info": {
   "codemirror_mode": {
    "name": "r"
   },
   "file_extension": ".Rev",
   "help_links": [
    {
     "text": "RevBayes",
     "url": "https://revbayes.org"
    },
    {
     "text": "RevBayes Kernel",
     "url": "https://github.com/sdwfrost/revbayes_kernel"
    },
    {
     "text": "MetaKernel Magics",
     "url": "https://github.com/calysto/metakernel/blob/master/metakernel/magics/README.md"
    }
   ],
   "mimetype": "text/x-rsrc",
   "name": "RevBayes",
   "pygments_lexer": "R"
  }
 },
 "nbformat": 4,
 "nbformat_minor": 2
}
