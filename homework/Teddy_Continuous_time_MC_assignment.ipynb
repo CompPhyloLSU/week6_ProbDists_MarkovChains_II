{
 "cells": [
  {
   "cell_type": "markdown",
   "metadata": {},
   "source": [
    "#Writing Pseudocode for Simulation of a Continous-time Markov Chains\n",
    "#In the folowwing statements we will define our function that is meant to be used by anyone\n",
    "\n",
    "#Define state space (A,C,G,T)\n",
    "#Transition Matrix (that adds to 0)\n",
    "(-negative numbers in our matrix tell us what's the time until next  events occurs)\n",
    "#In the JC69 model, this is called a rateMatrix = Q\n",
    "#Define our waiting time: 0.5 (average number of changes we could observed by nucleotide, expected number of changes, officially (lambda)t, just like any distance is the product of rate and time.\n",
    "#Initialize chain: draw from stationary distribution for JC: 1/4, 1/4, 1/4, 1/4 (X1)\n",
    "#Draw a waiting time from an exponential\n",
    "#Draw a new state (X2)\n",
    "#Check if total time > than branch lenght (0.5)\n",
    "#If not, draw again\n",
    "\n",
    "#Note: if no change is observed after our waiting time, then our current state is the same (X1)\n",
    "#Keep track of the sum of all changes, when waiting time is higher than ours, then we stop the chain\n"
   ]
  },
  {
   "cell_type": "code",
   "execution_count": 1,
   "metadata": {},
   "outputs": [
    {
     "name": "stdout",
     "output_type": "stream",
     "text": [
      "   [ [ -1.0000, 0.3333, 0.3333, 0.3333 ] ,\n",
      "     0.3333, -1.0000, 0.3333, 0.3333 ] ,\n",
      "     0.3333, 0.3333, -1.0000, 0.3333 ] ,\n",
      "     0.3333, 0.3333, 0.3333, -1.0000 ] ]\n",
      "   [ [ 0.635, 0.122, 0.122, 0.122 ], [ 0.122, 0.635, 0.122, 0.122 ], [ 0.122, 0.122, 0.635, 0.122 ], [ 0.122, 0.122, 0.122, 0.635 ] ]\n"
     ]
    }
   ],
   "source": [
    "# Clear our workspace to start\n",
    "clear()\n",
    "\n",
    "# Define the states for our chain\n",
    "stateSpace = [\"A\",\"C\", \"G\", \"T\"]\n",
    "\n",
    "\n",
    "#Create the rate matrix\n",
    "rateMatrix <- fnJC(4)\n",
    "rateMatrix\n",
    "\n",
    "#Compute the transition probability matrix for a branch length of 0.5.\n",
    "P <- rateMatrix.getTransitionProbabilities(0.5)\n",
    "P\n",
    "\n",
    "# Initialize our chain (draw from stationary probs)\n",
    "myChain = [\"A\"]"
   ]
  },
  {
   "cell_type": "code",
   "execution_count": 2,
   "metadata": {},
   "outputs": [],
   "source": [
    "function addState(String[] chain, String[] states, Probability[][] RateMatrix){\n",
    "\n",
    "    numStates = states.size()\n",
    "    \n",
    "    for (s in 1:numStates){\n",
    "        if (chain[chain.size()] == states[s]){\n",
    "            probs = P[s]\n",
    "        }\n",
    "    }\n",
    "\n",
    "    wait = 0.0\n",
    "    time = 0.5\n",
    "    sumTime = 0.0\n",
    "    \n",
    "  i = 1\n",
    "    while(wait < time){\n",
    "        wait = rexp(1,1)[1]\n",
    "        sumTime += wait}\n",
    "        if (time < sumTime){\n",
    "            return append(states, chain)\n",
    "        }\n",
    "     i += 1\n",
    "    }"
   ]
  },
  {
   "cell_type": "code",
   "execution_count": 3,
   "metadata": {},
   "outputs": [
    {
     "name": "stdout",
     "output_type": "stream",
     "text": [
      "0.2518703\n",
      "0.2493766\n",
      "0.2493766\n",
      "0.2493766\n"
     ]
    }
   ],
   "source": [
    "# Define the number of generations (iterations) in our chain\n",
    "numGens = 100\n",
    "\n",
    "# Run the chain for numGens generations\n",
    "for (g in 1:numGens){\n",
    "    myChain = addState(myChain,stateSpace,P)\n",
    "}\n",
    "\n",
    "# Tally the number of times each state occurs in the chain\n",
    "ACount = 0\n",
    "CCount = 0\n",
    "GCount = 0\n",
    "TCount = 0\n",
    "\n",
    "for (i in 1:myChain.size()){\n",
    "    if (myChain[i] == \"A\"){\n",
    "        ACount += 1\n",
    "    } else {\n",
    "        if (myChain[i] == \"C\"){\n",
    "        CCount += 1\n",
    "            } else {\n",
    "        if (myChain[i] == \"G\"){\n",
    "        GCount += 1\n",
    "            } else { \n",
    "         TCount += 1}\n",
    "}\n",
    "}\n",
    "        }\n",
    "# Calculate the frequencies of states visited by the chain\n",
    "print(ACount/myChain.size())\n",
    "print(GCount/myChain.size())\n",
    "print(CCount/myChain.size())\n",
    "print(TCount/myChain.size())"
   ]
  },
  {
   "cell_type": "code",
   "execution_count": 4,
   "metadata": {},
   "outputs": [
    {
     "name": "stdout",
     "output_type": "stream",
     "text": [
      "   [ A, C, G, T, A, C, G, T, A, C, G, T, A, C, G, T, A, C, G, T, A, C, G, T, A, C, G, T, A, C, G, T, A, C, G, T, A, C, G, T, A, C, G, T, A, C, G, T, A, C, G, T,\n",
      "   A, C, G, T, A, C, G, T, A, C, G, T, A, C, G, T, A, C, G, T, A, C, G, T, A, C, G, T, A, C, G, T, A, C, G, T, A, C, G, T, A, C, G, T, A, C, G, T, A, C, G, T,\n",
      "   A, C, G, T, A, C, G, T, A, C, G, T, A, C, G, T, A, C, G, T, A, C, G, T, A, C, G, T, A, C, G, T, A, C, G, T, A, C, G, T, A, C, G, T, A, C, G, T, A, C, G, T,\n",
      "   A, C, G, T, A, C, G, T, A, C, G, T, A, C, G, T, A, C, G, T, A, C, G, T, A, C, G, T, A, C, G, T, A, C, G, T, A, C, G, T, A, C, G, T, A, C, G, T, A, C, G, T,\n",
      "   A, C, G, T, A, C, G, T, A, C, G, T, A, C, G, T, A, C, G, T, A, C, G, T, A, C, G, T, A, C, G, T, A, C, G, T, A, C, G, T, A, C, G, T, A, C, G, T, A, C, G, T,\n",
      "   A, C, G, T, A, C, G, T, A, C, G, T, A, C, G, T, A, C, G, T, A, C, G, T, A, C, G, T, A, C, G, T, A, C, G, T, A, C, G, T, A, C, G, T, A, C, G, T, A, C, G, T,\n",
      "   A, C, G, T, A, C, G, T, A, C, G, T, A, C, G, T, A, C, G, T, A, C, G, T, A, C, G, T, A, C, G, T, A, C, G, T, A, C, G, T, A, C, G, T, A, C, G, T, A, C, G, T,\n",
      "   A, C, G, T, A, C, G, T, A, C, G, T, A, C, G, T, A, C, G, T, A, C, G, T, A, C, G, T, A, C, G, T, A, C, G, T, A ]\n"
     ]
    }
   ],
   "source": [
    "myChain"
   ]
  }
 ],
 "metadata": {
  "kernelspec": {
   "display_name": "RevBayes",
   "language": "bash",
   "name": "revbayes_kernel"
  },
  "language_info": {
   "codemirror_mode": {
    "name": "r"
   },
   "file_extension": ".Rev",
   "help_links": [
    {
     "text": "RevBayes",
     "url": "https://revbayes.org"
    },
    {
     "text": "RevBayes Kernel",
     "url": "https://github.com/sdwfrost/revbayes_kernel"
    },
    {
     "text": "MetaKernel Magics",
     "url": "https://github.com/calysto/metakernel/blob/master/metakernel/magics/README.md"
    }
   ],
   "mimetype": "text/x-rsrc",
   "name": "RevBayes",
   "pygments_lexer": "R"
  }
 },
 "nbformat": 4,
 "nbformat_minor": 2
}
