{
 "cells": [
  {
   "cell_type": "code",
   "execution_count": 7,
   "metadata": {},
   "outputs": [],
   "source": [
    "# Clears the workspace to start\n",
    "\n",
    "clear()\n",
    "\n",
    "# Defines the states for the chain; defining each nucleotide to be randomly drawn upon in order to initialize the chain \n",
    "stateSpace = [\"A\", \"C\",\"G\", \"T\"]\n",
    "#This serves as a vector to keep track of waiting times between 0 and the designated branch length that so we can see how long it took for the current nucleotide to change to the next \n",
    "allTimes =[0.0]\n",
    "#Initializes chain with random drawing of one of the four nucleotides; this part i modified of my own code; before I was drawing all four nucleotides randomly arranged in list as opposed to drawing one random nucleotide. \n",
    "myNucleos = [stateSpace[runifInt(1,1,4)[1]]]\n"
   ]
  },
  {
   "cell_type": "code",
   "execution_count": 8,
   "metadata": {},
   "outputs": [
    {
     "name": "stdout",
     "output_type": "stream",
     "text": [
      "   [ 0.000, 0.893, 3.872, 0.079, 0.463, 0.386, 3.205, 0.345, 1.579, 0.060, 1.335, 1.530, 0.842, 1.043, 2.166, 1.331, 0.942, 2.456, 0.030, 0.279, 0.715, 1.767,\n",
      "   0.051, 3.355 ]\n",
      "   [ T, G, C, G, T, G, A, G, C, A, T, A, T, C, T, G, C, G, C, A, T, C, A, T ]\n"
     ]
    }
   ],
   "source": [
    "#line1: is setting the conditional to true so that the function will keep running until it is to false ; false being that the sum of allTimes and btwTimes is not less than the set branch length. for example if the branch length is set to .5 and the sum exceeds this the function will stop running \n",
    "#line2: while the condition is true run the following code \n",
    "#line3: btwTimes is a vector for the random draws from an expontential distribution where the number of draws is 1 and the rate is 1 ; this vector represents the time it takes for the current nucleotide to change to the next i.e. wait times\n",
    "#line4: establishing the branch length; the sum of allTimes and btwTimes represents the total time it takes for changes in nucleotides to occur and if the the total time is less than the branch length then proceed \n",
    "#line5: if allTimes and btwTimes sum is less than the branch length then append to the allTimes vector allTimes (which is 0) and then the new wait time; this creates a list of wait times starting from zero to designated branch lenghth so you see how long it took for the current nucleotide to change \n",
    "#line6: after determining how long it takes to change from one state to the next we need to identify the state were in/ the state we're changing to; this line is identifying the current state that we are in \n",
    "#line7: setting the next state equal to the current state we're in \n",
    "#line8: while the next state is equivalent to the current state do another random drawing of another state, which will then become the next state\n",
    "#line9: this line is appending the next state to the state we used to initialize the chain and myNucleos serves as vector to hold all the changes in states if any \n",
    "#line10: this conditional allows the function to stop once it is no longer true; for example if the sum of allTimes and btwTimes is not less than the branch length, then the function will stop running \n",
    "#the last lines print of the list of waiting times and a list of state changes if any \n",
    "carryOn = true\n",
    "while (carryOn){\n",
    "    btwTimes = rexp(1,1)[1]\n",
    "    if (sum(allTimes)+btwTimes < 30.0){\n",
    "    allTimes = append(allTimes,btwTimes)\n",
    "    ogNucleo = myNucleos[myNucleos.size()]\n",
    "    nextNucleo = ogNucleo\n",
    "    while (nextNucleo == ogNucleo){\n",
    "        nextNucleo = stateSpace[runifInt(1,1,4)[1]]\n",
    "    }\n",
    "    myNucleos = append(myNucleos, nextNucleo)\n",
    "} else{\n",
    "        carryOn = false\n",
    "    }\n",
    "}    \n",
    "allTimes\n",
    "myNucleos"
   ]
  },
  {
   "cell_type": "code",
   "execution_count": null,
   "metadata": {},
   "outputs": [],
   "source": []
  }
 ],
 "metadata": {
  "kernelspec": {
   "display_name": "RevBayes",
   "language": "bash",
   "name": "revbayes_kernel"
  },
  "language_info": {
   "codemirror_mode": {
    "name": "r"
   },
   "file_extension": ".Rev",
   "help_links": [
    {
     "text": "RevBayes",
     "url": "https://revbayes.org"
    },
    {
     "text": "RevBayes Kernel",
     "url": "https://github.com/sdwfrost/revbayes_kernel"
    },
    {
     "text": "MetaKernel Magics",
     "url": "https://github.com/calysto/metakernel/blob/master/metakernel/magics/README.md"
    }
   ],
   "mimetype": "text/x-rsrc",
   "name": "RevBayes",
   "pygments_lexer": "R"
  }
 },
 "nbformat": 4,
 "nbformat_minor": 2
}
