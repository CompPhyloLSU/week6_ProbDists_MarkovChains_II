{
 "cells": [
  {
   "cell_type": "code",
   "execution_count": null,
   "metadata": {},
   "outputs": [],
   "source": [
    "# Clear our workspace to start\n",
    "#for last part change the for loop to output one random state as starting point \n",
    "clear()\n",
    "\n",
    "# Define the states for our chain\n",
    "stateSpace = [\"A\", \"C\",\"G\", \"T\"]\n",
    "\n",
    "# Define our transition matrix\n",
    "rateMatrix = [[0,0.33,0.33,0.33],[0.33,0,0.33,0.33],[0.33,0.33,0,0.33],[0.33,0.33,0.33,0]]\n",
    "# Initialize our chain with random drawing of nucleotide \n",
    "state = runifInt(1,1,4)[1]\n",
    "myChain =[stateSpace[state]]"
   ]
  },
  {
   "cell_type": "code",
   "execution_count": null,
   "metadata": {},
   "outputs": [],
   "source": [
    "function addState(String[] chain, String[] states, Probability[][] rMat){\n",
    "\n",
    "    numStates = states.size()\n",
    "    \n",
    "    for (s in 1:numStates){\n",
    "        if (chain[chain.size()] == states[s]){\n",
    "            probs = rMat[s]\n",
    "        }\n",
    "    }\n",
    "    \n",
    "    continNum = rexp(n=.5,1)\n",
    "    \n",
    "    eventTimes = 0.0\n",
    "    \n",
    "    \n",
    "    \n",
    "    i = 1\n",
    "    while(eventTimes< continNum){\n",
    "        eventTimes += probs[i]\n",
    "        if (continNum < eventTimes){\n",
    "            return append(chain,states[i])\n",
    "        }\n",
    "        i += 1\n",
    "    }     \n",
    "}\n"
   ]
  },
  {
   "cell_type": "code",
   "execution_count": null,
   "metadata": {},
   "outputs": [],
   "source": [
    "# Define the number of generations (iterations) in our chain\n",
    "numGens = 30\n",
    "\n",
    "# Run the chain for numGens generations\n",
    "for (g in 1:numGens){\n",
    "    myChain = addState(myChain,stateSpace,rateMatrix)\n",
    "}\n",
    "\n",
    "# Tally the number of times each state occurs in the chain\n",
    "aCount = 0\n",
    "cCount = 0\n",
    "gCount = 0\n",
    "tCount = 0\n",
    "for (i in 1:stateSpace.size()){\n",
    "    if (myChain[i] == \"A\"){\n",
    "        aCount += 1\n",
    "    if (myChain[i] == \"C\")\n",
    "        cCount += 1\n",
    "    if (myChain[i] == \"G\")\n",
    "        gCount += 1\n",
    "    } else {\n",
    "        tCount += 1\n",
    "    }\n",
    "}\n",
    "\n",
    "# Calculate the frequencies of states visited by the chain\n",
    "print(aCount/stateSpace.size())\n",
    "print(cCount/stateSpace.size())\n",
    "print(gCount/stateSpace.size())\n",
    "print(tCount/stateSpace.size())"
   ]
  },
  {
   "cell_type": "code",
   "execution_count": null,
   "metadata": {},
   "outputs": [],
   "source": [
    "# Show all states in the entire chain\n",
    "print(myChain)\n",
    "print(stateSpace)"
   ]
  },
  {
   "cell_type": "code",
   "execution_count": null,
   "metadata": {},
   "outputs": [],
   "source": []
  }
 ],
 "metadata": {
  "kernelspec": {
   "display_name": "RevBayes",
   "language": "bash",
   "name": "revbayes_kernel"
  },
  "language_info": {
   "codemirror_mode": {
    "name": "r"
   },
   "file_extension": ".Rev",
   "help_links": [
    {
     "text": "RevBayes",
     "url": "https://revbayes.org"
    },
    {
     "text": "RevBayes Kernel",
     "url": "https://github.com/sdwfrost/revbayes_kernel"
    },
    {
     "text": "MetaKernel Magics",
     "url": "https://github.com/calysto/metakernel/blob/master/metakernel/magics/README.md"
    }
   ],
   "mimetype": "text/x-rsrc",
   "name": "RevBayes",
   "pygments_lexer": "R"
  }
 },
 "nbformat": 4,
 "nbformat_minor": 2
}
