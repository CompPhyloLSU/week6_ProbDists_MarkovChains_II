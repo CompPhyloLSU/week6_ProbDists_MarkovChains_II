{
 "cells": [
  {
   "cell_type": "markdown",
   "metadata": {},
   "source": [
    "Homework in which we are tasked with turning the example code into functioning code for the continuous time markov chain. "
   ]
  },
  {
   "cell_type": "markdown",
   "metadata": {},
   "source": [
    "Pseudocode:\n",
    "Define the state space\n",
    "Define the rate matrix\n",
    "Initiate the chain\n",
    "    Randomly start the chain with either A, T, G, or C\n",
    "Set the duration of the simulation\n",
    "    In class we decided on 0.5\n",
    "Draw a waiting time from an exponential distribution \n",
    "    Check if the waiting time sum is less than the duration\n",
    "    Choose a new state\n",
    "Store the data\n",
    "    The event time\n",
    "    State at time "
   ]
  },
  {
   "cell_type": "code",
   "execution_count": 11,
   "metadata": {},
   "outputs": [
    {
     "name": "stdout",
     "output_type": "stream",
     "text": [
      "   [ A, T, G, C ]\n",
      "   [ [ 0.000, 0.333, 0.333, 0.333 ], [ 0.333, 0.000, 0.333, 0.333 ], [ 0.333, 0.333, 0.000, 0.333 ], [ 0.333, 0.333, 0.333, 0.000 ] ]\n",
      "   1\n",
      "   [ A ]\n"
     ]
    }
   ],
   "source": [
    "# Clear the workspace before each run to reduce errors\n",
    "clear()\n",
    "\n",
    "# Make the state space to define the chain\n",
    "# use \"\" as these are categories \n",
    "states = [\"A\", \"T\", \"G\", \"C\"]\n",
    "\n",
    "\n",
    "# Set the rate Matrix to reference\n",
    "ratemat = [[0, (1/3), (1/3), (1/3)], [(1/3), 0, (1/3), (1/3)], [(1/3), (1/3), 0, (1/3)], [(1/3), (1/3), (1/3), 0]]\n",
    "\n",
    "# Set the first event in the chain randomly\n",
    "pick = runifInt(1, 1, 4)[1]\n",
    "\n",
    "mychain = [states[pick]]\n",
    "\n"
   ]
  },
  {
   "cell_type": "markdown",
   "metadata": {},
   "source": [
    "The first cell is used to establish the components of the markov chain that will be used. The states are all the possible states that can be events. The transition matrix gives the probabilites of staying within an event or moving to another. The chain is going to be the chain of events that occur, here we have set the first of the events. "
   ]
  },
  {
   "cell_type": "code",
   "execution_count": 12,
   "metadata": {},
   "outputs": [],
   "source": [
    "# Create a function that will take our markov inputs and check the state, use that prob and add to the chain\n",
    "function addState(String[] chain, String[] states, Probability[][] tMat){\n",
    "    numStates = states.size()\n",
    "    for (s in 1:numStates){\n",
    "        if (chain[chain.size()] == states[s]){\n",
    "            probs = tMat[s]\n",
    "        }\n",
    "    }\n",
    "    \n",
    "    ranNum = runif(1,0,1)[1]\n",
    "    probSum = 0.0\n",
    "    i = 1\n",
    "    while(probSum < ranNum){\n",
    "        probSum += probs[i]\n",
    "        if (ranNum < probSum){\n",
    "            return append(chain,states[i]) \n",
    "        }\n",
    "        i += 1\n",
    "    }     \n",
    "}   "
   ]
  },
  {
   "cell_type": "markdown",
   "metadata": {},
   "source": [
    "The function cell uses the markov inputs, the chain, state, and transition matrix to run through to the next state."
   ]
  },
  {
   "cell_type": "code",
   "execution_count": 13,
   "metadata": {},
   "outputs": [
    {
     "name": "stdout",
     "output_type": "stream",
     "text": [
      "A,G,C,T,G,C,T,G,C,T,A,T,C\n",
      "0,1.87893,0.008732,0.255721,0.165267,0.577772,0.529597,0.0137411,0.579615,0.299662,0.0574882,0.358914,0.216529\n",
      "4.941973\n"
     ]
    }
   ],
   "source": [
    "duration = 5\n",
    "times = [0.0]\n",
    "conditional = true\n",
    "while (conditional){\n",
    "    wait = rexp(1,1)[1]\n",
    "    if (sum(times)+wait < duration){\n",
    "        times = append(times,wait)\n",
    "        mychain = addState(mychain,states,ratemat)\n",
    "    } else{\n",
    "        conditional = false\n",
    "    }\n",
    "}\n",
    "print(mychain)\n",
    "print(times)\n",
    "print(sum(times))\n"
   ]
  }
 ],
 "metadata": {
  "kernelspec": {
   "display_name": "RevBayes",
   "language": "bash",
   "name": "revbayes_kernel"
  },
  "language_info": {
   "codemirror_mode": {
    "name": "r"
   },
   "file_extension": ".Rev",
   "help_links": [
    {
     "text": "RevBayes",
     "url": "https://revbayes.org"
    },
    {
     "text": "RevBayes Kernel",
     "url": "https://github.com/sdwfrost/revbayes_kernel"
    },
    {
     "text": "MetaKernel Magics",
     "url": "https://github.com/calysto/metakernel/blob/master/metakernel/magics/README.md"
    }
   ],
   "mimetype": "text/x-rsrc",
   "name": "RevBayes",
   "pygments_lexer": "R"
  }
 },
 "nbformat": 4,
 "nbformat_minor": 2
}
