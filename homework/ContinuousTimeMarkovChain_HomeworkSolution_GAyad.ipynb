{
 "cells": [
  {
   "cell_type": "code",
   "execution_count": 7,
   "metadata": {},
   "outputs": [],
   "source": [
    "stateSpace = [\"A\",\"C\",\"G\",\"T\"]\n",
    "myTimes = [0.0]\n",
    "myStates = [stateSpace[runifInt(1,1,4)[1]]]\n",
    "keepGoing = true\n",
    "while (keepGoing){\n",
    "  waitTime = rexp(1,1)[1]\n",
    "  if (sum(myTimes)+waitTime < 5){\n",
    "    myTimes = append(myTimes,waitTime)\n",
    "    currentState = myStates[myStates.size()]\n",
    "    nextState = currentState\n",
    "    while (nextState == currentState){\n",
    "      nextState = stateSpace[runifInt(1,1,4)[1]]  \n",
    "    }\n",
    "    myStates = append(myStates,nextState)\n",
    "  } else {\n",
    "      keepGoing = false\n",
    "  }\n",
    "}"
   ]
  },
  {
   "cell_type": "code",
   "execution_count": 8,
   "metadata": {},
   "outputs": [
    {
     "name": "stdout",
     "output_type": "stream",
     "text": [
      "   [ 0.000, 0.068, 2.645 ]\n"
     ]
    }
   ],
   "source": [
    "myTimes"
   ]
  },
  {
   "cell_type": "code",
   "execution_count": 9,
   "metadata": {},
   "outputs": [
    {
     "name": "stdout",
     "output_type": "stream",
     "text": [
      "   [ G, T, C ]\n"
     ]
    }
   ],
   "source": [
    "myStates"
   ]
  },
  {
   "cell_type": "code",
   "execution_count": null,
   "metadata": {
    "collapsed": true
   },
   "outputs": [],
   "source": []
  }
 ],
 "metadata": {
  "kernelspec": {
   "display_name": "RevBayes",
   "language": "bash",
   "name": "revbayes_kernel"
  },
  "language_info": {
   "codemirror_mode": {
    "name": "r"
   },
   "file_extension": ".Rev",
   "help_links": [
    {
     "text": "RevBayes",
     "url": "https://revbayes.org"
    },
    {
     "text": "RevBayes Kernel",
     "url": "https://github.com/sdwfrost/revbayes_kernel"
    },
    {
     "text": "MetaKernel Magics",
     "url": "https://github.com/calysto/metakernel/blob/master/metakernel/magics/README.md"
    }
   ],
   "mimetype": "text/x-rsrc",
   "name": "RevBayes",
   "pygments_lexer": "R"
  }
 },
 "nbformat": 4,
 "nbformat_minor": 2
}
