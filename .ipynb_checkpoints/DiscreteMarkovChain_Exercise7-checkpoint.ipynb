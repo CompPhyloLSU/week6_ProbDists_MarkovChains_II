{
 "cells": [
  {
   "cell_type": "markdown",
   "metadata": {},
   "source": [
    "# Discrete Markov Chain Simulation (Exercise 7)"
   ]
  },
  {
   "cell_type": "markdown",
   "metadata": {},
   "source": [
    "In this exercise, we are going to explore some properties of discrete-time Markov chains. To do this, we'll define a custom state space and transition matrix, which contains the pairwise probabilities of transitioning between states. By default, our state space consists of two types of days - `Rainy` and `Sunny`. In the Rev language, we encode our states in a one-dimensional vector that we are calling `stateSpace`. We encode our transition matrix as a two-dimensional vector - a vector of vectors - called `transitionMatrix`. We also create a vector to hold the states of our chain, `myChain`, and provide one initial state (in this case, `Rainy`)."
   ]
  },
  {
   "cell_type": "code",
   "execution_count": 1,
   "metadata": {},
   "outputs": [],
   "source": [
    "# Clear our workspace to start\n",
    "clear()\n",
    "\n",
    "# Define the states for our chain\n",
    "stateSpace = [\"Rainy\",\"Sunny\"]\n",
    "\n",
    "# Define our transition matrix\n",
    "transitionMatrix = [[0.8,0.2],[0.2,0.]]\n",
    "\n",
    "# Initialize our chain\n",
    "myChain = [\"Rainy\"]"
   ]
  },
  {
   "cell_type": "markdown",
   "metadata": {},
   "source": [
    "Now that we've initialized our chain, we need a way to draw a new state for each generation. Since this is something we'll want to do a lot, we'll create a new function called `addState`. Because adding comments in functions causes a bug with RevBayes Jupyter notebooks, I haven't yet commented the code in this function. I would like you to pair up into groups of 2, copy the code from this function into a text editor, and add comments that explain the logic of each line."
   ]
  },
  {
   "cell_type": "code",
   "execution_count": null,
   "metadata": {
    "collapsed": true
   },
   "outputs": [],
   "source": [
    "function addState(String[] chain, String[] states, Probability[][] tMat){\n",
    "\n",
    "    numStates = states.size()\n",
    "    \n",
    "    for (s in 1:numStates){\n",
    "        if (chain[chain.size()] == states[s]){\n",
    "            probs = tMat[s]\n",
    "        }\n",
    "    }\n",
    "    \n",
    "    ranNum = runif(1,0,1)[1]\n",
    "    \n",
    "    probSum = 0.0\n",
    "    \n",
    "    i = 1\n",
    "    while(probSum < ranNum){\n",
    "        probSum += probs[i]\n",
    "        if (ranNum < probSum){\n",
    "            return append(chain,states[i])\n",
    "        }\n",
    "        i += 1\n",
    "    }     \n",
    "}"
   ]
  },
  {
   "cell_type": "markdown",
   "metadata": {},
   "source": [
    "Now that our chain is set up and we have a function to draw a new state for each generation, we can use a `for` loop to run the chain for as long as we want."
   ]
  },
  {
   "cell_type": "code",
   "execution_count": null,
   "metadata": {},
   "outputs": [],
   "source": [
    "# Define the number of generations (iterations) in our chain\n",
    "numGens = 30\n",
    "\n",
    "# Run the chain for numGens generations\n",
    "for (g in 1:numGens){\n",
    "    myChain = addState(myChain,stateSpace,transitionMatrix)\n",
    "}\n",
    "\n",
    "# Tally the number of times each state occurs in the chain\n",
    "rainCount = 0\n",
    "sunCount = 0\n",
    "for (i in 1:myChain.size()){\n",
    "    if (myChain[i] == \"Rainy\"){\n",
    "        rainCount += 1\n",
    "    } else {\n",
    "        sunCount += 1\n",
    "    }\n",
    "}\n",
    "\n",
    "# Calculate the frequencies of states visited by the chain\n",
    "print(rainCount/myChain.size())\n",
    "print(sunCount/myChain.size())"
   ]
  },
  {
   "cell_type": "markdown",
   "metadata": {},
   "source": [
    "Note that each time you run the code in the cell above, it will __add__ `numGens` generations to the chain. As you run the chain longer, where do the frequencies settle? What are the stationary probabilities?\n",
    "\n",
    "Get a sense for the dynamics of the chain by examining its states (execute the next cell)."
   ]
  },
  {
   "cell_type": "code",
   "execution_count": null,
   "metadata": {},
   "outputs": [],
   "source": [
    "# Show all states in the entire chain\n",
    "print(myChain)"
   ]
  },
  {
   "cell_type": "markdown",
   "metadata": {},
   "source": [
    "Now, try changing the probabilities in the transition matrix. First, keep the matrix symmetric (the diagonal elements should remain identical, as should the non-diagonal elements). What happens to the patterns you see in the chain?\n",
    "\n",
    "Now, make the matrix non-symmetrical. What happens to the stationary frequencies? What's the relationship between the transition matrix and the stationary frequencies?"
   ]
  }
 ],
 "metadata": {
  "kernelspec": {
   "display_name": "RevBayes",
   "language": "bash",
   "name": "revbayes_kernel"
  },
  "language_info": {
   "codemirror_mode": {
    "name": "r"
   },
   "file_extension": ".Rev",
   "help_links": [
    {
     "text": "RevBayes",
     "url": "https://revbayes.org"
    },
    {
     "text": "RevBayes Kernel",
     "url": "https://github.com/sdwfrost/revbayes_kernel"
    },
    {
     "text": "MetaKernel Magics",
     "url": "https://github.com/calysto/metakernel/blob/master/metakernel/magics/README.md"
    }
   ],
   "mimetype": "text/x-rsrc",
   "name": "RevBayes",
   "pygments_lexer": "R"
  }
 },
 "nbformat": 4,
 "nbformat_minor": 2
}
